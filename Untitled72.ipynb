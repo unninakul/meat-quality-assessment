{
  "nbformat": 4,
  "nbformat_minor": 0,
  "metadata": {
    "colab": {
      "provenance": [],
      "authorship_tag": "ABX9TyPTkRrklyWm082EZhEmosh9",
      "include_colab_link": true
    },
    "kernelspec": {
      "name": "python3",
      "display_name": "Python 3"
    },
    "language_info": {
      "name": "python"
    }
  },
  "cells": [
    {
      "cell_type": "markdown",
      "metadata": {
        "id": "view-in-github",
        "colab_type": "text"
      },
      "source": [
        "<a href=\"https://colab.research.google.com/github/unninakul/meat-quality-assessment/blob/main/Untitled72.ipynb\" target=\"_parent\"><img src=\"https://colab.research.google.com/assets/colab-badge.svg\" alt=\"Open In Colab\"/></a>"
      ]
    },
    {
      "cell_type": "code",
      "source": [
        "#import modules\n",
        "import tensorflow as tf\n",
        "import numpy as np\n",
        "import matplotlib.pyplot as plt\n",
        "from google.colab import drive"
      ],
      "metadata": {
        "id": "0IqyGP5swNU3"
      },
      "execution_count": null,
      "outputs": []
    },
    {
      "cell_type": "code",
      "source": [
        "# Mount Google Drive\n",
        "drive.mount('/content/drive')"
      ],
      "metadata": {
        "id": "dRYXfTqgwSWK"
      },
      "execution_count": null,
      "outputs": []
    },
    {
      "cell_type": "code",
      "source": [
        "#Data Preprocessing and Image Conversion\n",
        "IMAGE_SIZE = 256\n",
        "BATCH_SIZE = 32\n",
        "CHANNELS = 3\n",
        "EPOCHS = 30"
      ],
      "metadata": {
        "id": "1BIAtjV8wXVX"
      },
      "execution_count": null,
      "outputs": []
    },
    {
      "cell_type": "code",
      "source": [
        "#Image Conversion\n",
        "import os\n",
        "from PIL import Image"
      ],
      "metadata": {
        "id": "eDUZ8Axxweg7"
      },
      "execution_count": null,
      "outputs": []
    },
    {
      "cell_type": "code",
      "source": [
        "# Function to convert images and replace them\n",
        "def convert_images(folder_path):\n",
        "    file_list = os.listdir(folder_path)\n",
        "\n",
        "    for file_name in file_list:\n",
        "        if file_name.lower().endswith((\".png\", \".jpg\", \".jpeg\")):\n",
        "            file_path = os.path.join(folder_path, file_name)\n",
        "\n",
        "            try:\n",
        "                image = Image.open(file_path)\n",
        "            except Exception as e:\n",
        "                print(f\"Error opening {file_name}: {str(e)}\")\n",
        "                continue\n",
        "\n",
        "            new_file_path = os.path.splitext(file_path)[0] + \".jpg\"\n",
        "\n",
        "            try:\n",
        "                image.save(new_file_path, \"JPEG\")\n",
        "            except Exception as e:\n",
        "                print(f\"Error converting {file_name} to JPEG: {str(e)}\")\n",
        "                continue\n",
        "\n",
        "            os.remove(file_path)\n",
        "            os.rename(new_file_path, file_path)\n",
        "            print(f\"{file_name} converted to JPEG and replaced successfully.\")"
      ],
      "metadata": {
        "id": "lVjAeglHxX2Q"
      },
      "execution_count": null,
      "outputs": []
    },
    {
      "cell_type": "code",
      "source": [
        "# Path to the dataset folder\n",
        "folder_path_beef = \"/content/drive/MyDrive/beef_data_folder\"\n",
        "folder_path_pork = \"/content/drive/MyDrive/pork_data_folder\"\n",
        "folder_path_fish = \"/content/drive/MyDrive/fish_data_folder\""
      ],
      "metadata": {
        "id": "Gfvw60S5xfHr"
      },
      "execution_count": null,
      "outputs": []
    },
    {
      "cell_type": "code",
      "source": [
        "# Convert images in beef dataset folder\n",
        "convert_images(folder_path_beef)"
      ],
      "metadata": {
        "id": "Z2hjR0Loxk6w"
      },
      "execution_count": null,
      "outputs": []
    },
    {
      "cell_type": "code",
      "source": [
        "# Convert images in pork dataset folder\n",
        "convert_images(folder_path_pork)"
      ],
      "metadata": {
        "id": "3REeUzkPxr7H"
      },
      "execution_count": null,
      "outputs": []
    },
    {
      "cell_type": "code",
      "source": [
        "# Convert images in fish dataset folder\n",
        "convert_images(folder_path_fish)"
      ],
      "metadata": {
        "id": "BtePG97nxv8b"
      },
      "execution_count": null,
      "outputs": []
    },
    {
      "cell_type": "code",
      "source": [
        "# Importing Dataset\n",
        "dataset_beef = tf.keras.preprocessing.image_dataset_from_directory(\n",
        "    folder_path_beef,\n",
        "    shuffle=True,\n",
        "    image_size=(IMAGE_SIZE, IMAGE_SIZE),\n",
        "    batch_size=BATCH_SIZE,\n",
        ")\n",
        "\n",
        "dataset_pork = tf.keras.preprocessing.image_dataset_from_directory(\n",
        "    folder_path_pork,\n",
        "    shuffle=True,\n",
        "    image_size=(IMAGE_SIZE, IMAGE_SIZE),\n",
        "    batch_size=BATCH_SIZE,\n",
        ")\n",
        "\n",
        "dataset_fish = tf.keras.preprocessing.image_dataset_from_directory(\n",
        "    folder_path_fish,\n",
        "    shuffle=True,\n",
        "    image_size=(IMAGE_SIZE, IMAGE_SIZE),\n",
        "    batch_size=BATCH_SIZE,\n",
        ")"
      ],
      "metadata": {
        "id": "2gJ14hPLx0XO"
      },
      "execution_count": null,
      "outputs": []
    },
    {
      "cell_type": "code",
      "source": [
        "# Data Preperation\n",
        "for image_batch, label_batch in dataset_beef.take(1):\n",
        "    print(image_batch.shape)\n",
        "    print(label_batch.numpy())"
      ],
      "metadata": {
        "id": "cMdNEtdkx86v"
      },
      "execution_count": null,
      "outputs": []
    },
    {
      "cell_type": "code",
      "source": [
        "# Data Exploration\n",
        "plt.figure(figsize=(7, 7))\n",
        "for image_batch, label_batch in dataset_beef.take(1):\n",
        "    for i in range(12):\n",
        "        ax = plt.subplot(3, 4, i+1)\n",
        "        plt.imshow(image_batch[i].numpy().astype(\"uint8\"))\n",
        "        class_names = ['very fresh', 'relatively fresh', 'neutral']\n",
        "        plt.title(class_names[label_batch[i]])\n",
        "        plt.axis(\"off\")"
      ],
      "metadata": {
        "id": "gwWAdb6tyGuf"
      },
      "execution_count": null,
      "outputs": []
    },
    {
      "cell_type": "code",
      "source": [
        "# Define a function to get dataset partitions\n",
        "def get_dataset_partitions_tf(ds, train_split=0.8, val_split=0.1, test_split=0.1,\n",
        "                              shuffle=True, shuffle_size=10000):\n",
        "    ds_size = len(ds)\n",
        "    if shuffle:\n",
        "        ds = ds.shuffle(shuffle_size, seed=12)\n",
        "\n",
        "    train_size = int(train_split * ds_size)\n",
        "    val_size = int(val_split * ds_size)\n",
        "\n",
        "    train_ds = ds.take(train_size)\n",
        "    remaining_ds = ds.skip(train_size)\n",
        "    val_ds = remaining_ds.take(val_size)\n",
        "    test_ds = remaining_ds.skip(val_size)\n",
        "\n",
        "    return train_ds, val_ds, test_ds"
      ],
      "metadata": {
        "id": "no4fqhRFyLg1"
      },
      "execution_count": null,
      "outputs": []
    },
    {
      "cell_type": "code",
      "source": [
        "# Splitting the Dataset\n",
        "train_ds_beef, val_ds_beef, test_ds_beef = get_dataset_partitions_tf(dataset_beef)\n",
        "train_ds_pork, val_ds_pork, test_ds_pork = get_dataset_partitions_tf(dataset_pork)\n",
        "train_ds_fish, val_ds_fish, test_ds_fish = get_dataset_partitions_tf(dataset_fish)\n",
        "\n",
        "print(len(train_ds_beef), len(val_ds_beef), len(test_ds_beef))\n",
        "print(len(train_ds_pork), len(val_ds_pork), len(test_ds_pork))\n",
        "print(len(train_ds_fish), len(val_ds_fish), len(test_ds_fish))"
      ],
      "metadata": {
        "id": "BZTaAdrDyV3d"
      },
      "execution_count": null,
      "outputs": []
    },
    {
      "cell_type": "code",
      "source": [
        "# Preprocessing Images\n",
        "resize_and_rescale = tf.keras.Sequential([\n",
        "    layers.experimental.preprocessing.Resizing(IMAGE_SIZE, IMAGE_SIZE),\n",
        "    layers.experimental.preprocessing.Rescaling(1.0 / 255)\n",
        "])\n",
        "\n",
        "data_augmentation = tf.keras.Sequential([\n",
        "    layers.experimental.preprocessing.RandomFlip(\"horizontal_and_vertical\"),\n",
        "    layers.experimental.preprocessing.Rescaling(0.2),\n",
        "    layers.experimental.preprocessing.RandomContrast(factor=0.2),\n",
        "    layers.experimental.preprocessing.RandomZoom(0.2)\n",
        "])"
      ],
      "metadata": {
        "id": "rZB3V38byYMJ"
      },
      "execution_count": null,
      "outputs": []
    },
    {
      "cell_type": "code",
      "source": [
        "# Define the CNN Model\n",
        "input_shape = (IMAGE_SIZE, IMAGE_SIZE, CHANNELS)\n",
        "n_classes = 3\n",
        "\n",
        "model = models.Sequential([\n",
        "    resize_and_rescale,\n",
        "    data_augmentation,\n",
        "    layers.Conv2D(32, (3, 3), activation='relu', input_shape=input_shape),\n",
        "    layers.MaxPooling2D((2, 2)),\n",
        "    layers.Conv2D(64, kernel_size=(3, 3), activation='relu'),\n",
        "    layers.MaxPooling2D((2, 2)),\n",
        "    layers.Conv2D(128, kernel_size=(3, 3), activation='relu'),\n",
        "    layers.MaxPooling2D((2, 2)),\n",
        "    layers.Conv2D(128, (3, 3), activation='relu'),\n",
        "    layers.MaxPooling2D((2, 2)),\n",
        "    layers.Conv2D(256, (3, 3), activation='relu'),\n",
        "    layers.MaxPooling2D((2, 2)),\n",
        "    layers.Flatten(),\n",
        "    layers.Dense(128, activation='relu'),\n",
        "    layers.Dense(n_classes, activation='softmax')\n",
        "])\n",
        "\n",
        "model.build(input_shape=(None, *input_shape))\n",
        "model.summary()\n"
      ],
      "metadata": {
        "id": "1iNdxeUuydmw"
      },
      "execution_count": null,
      "outputs": []
    },
    {
      "cell_type": "code",
      "source": [
        "# Compile the Model\n",
        "model.compile(\n",
        "    optimizer='adam',\n",
        "    loss=tf.keras.losses.SparseCategoricalCrossentropy(from_logits=False),\n",
        "    metrics=['accuracy']\n",
        ")"
      ],
      "metadata": {
        "id": "iznjNbymyi4u"
      },
      "execution_count": null,
      "outputs": []
    },
    {
      "cell_type": "code",
      "source": [
        "# Training the Model\n",
        "history = model.fit(\n",
        "    train_ds_beef,\n",
        "    epochs=EPOCHS,\n",
        "    batch_size=BATCH_SIZE,\n",
        "    verbose=1,\n",
        "    validation_data=val_ds_beef\n",
        ")\n"
      ],
      "metadata": {
        "id": "qtVFXoC-yob1"
      },
      "execution_count": null,
      "outputs": []
    },
    {
      "cell_type": "code",
      "source": [
        "# Testing the Model\n",
        "scores = model.evaluate(test_ds_beef)\n",
        "print(scores)"
      ],
      "metadata": {
        "id": "kXcsMjhnysus"
      },
      "execution_count": null,
      "outputs": []
    },
    {
      "cell_type": "code",
      "source": [
        "# For Evaluation of Model\n",
        "print(history.params)\n",
        "print(history.history.keys())\n",
        "print(history.history['accuracy'])\n",
        "print(len(history.history['accuracy']))\n",
        "\n",
        "acc = history.history['accuracy']\n",
        "val_acc = history.history['val_accuracy']\n",
        "loss = history.history['loss']\n",
        "val_loss = history.history['val_loss']"
      ],
      "metadata": {
        "id": "uOVefSalyxxM"
      },
      "execution_count": null,
      "outputs": []
    },
    {
      "cell_type": "code",
      "source": [
        "# Training & Validation accuracy evaluation\n",
        "plt.figure(figsize=(8, 8))\n",
        "plt.subplot(1, 2, 1)\n",
        "plt.plot(range(EPOCHS), acc, label='Training Accuracy')\n",
        "plt.plot(range(EPOCHS), val_acc, label='Validation Accuracy')\n",
        "plt.legend(loc='lower right')\n",
        "plt.title('Training And Validation Accuracy')"
      ],
      "metadata": {
        "id": "baXu6CaIy2Xs"
      },
      "execution_count": null,
      "outputs": []
    },
    {
      "cell_type": "code",
      "source": [
        "# Prediction\n",
        "for images_batch, labels_batch in test_ds_beef.take(1):\n",
        "    first_image = images_batch[0].numpy().astype('uint8')\n",
        "    first_label = labels_batch[0].numpy()\n",
        "\n",
        "    print('First image to predict')\n",
        "    plt.imshow(first_image)\n",
        "    plt.show()  # Display the image\n",
        "\n",
        "    print(\"Actual label:\", class_names[first_label])\n",
        "\n",
        "    batch_prediction = model.predict(images_batch)\n",
        "    predicted_label_index = np.argmax(batch_prediction[0])\n",
        "\n",
        "    print(\"Predicted Label:\", class_names[predicted_label_index])"
      ],
      "metadata": {
        "id": "MttC_bmMy8FI"
      },
      "execution_count": null,
      "outputs": []
    }
  ]
}